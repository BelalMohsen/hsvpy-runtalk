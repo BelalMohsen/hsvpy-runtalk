{
 "metadata": {
  "name": "",
  "signature": "sha256:e8910dbb6c2000251aa8e994eff24f4e127de9ef36d39c24bf22d14f07edf217"
 },
 "nbformat": 3,
 "nbformat_minor": 0,
 "worksheets": [
  {
   "cells": [
    {
     "cell_type": "markdown",
     "metadata": {},
     "source": [
      "# Artwork from Run Data\n",
      "\n",
      "Of course python isn't just for boring data analysis. You can use the same tools in unique ways to make some cool graphics.\n",
      "\n",
      "I saw this incredible post from Dr. Nathan Yau on Flowing Data that showed where people run in different cities.\n",
      "\n",
      "http://flowingdata.com/2014/02/05/where-people-run/"
     ]
    },
    {
     "cell_type": "code",
     "collapsed": false,
     "input": [
      "from IPython.display import Image\n",
      "Image(\"http://i2.wp.com/flowingdata.com/wp-content/uploads/2014/02/DC-feature.png\")"
     ],
     "language": "python",
     "metadata": {},
     "outputs": []
    },
    {
     "cell_type": "markdown",
     "metadata": {},
     "source": [
      "## Let's recreate this for Huntsville!"
     ]
    },
    {
     "cell_type": "markdown",
     "metadata": {},
     "source": [
      "First, let's import everything we need."
     ]
    },
    {
     "cell_type": "code",
     "collapsed": false,
     "input": [
      "import pandas as pd\n",
      "import matplotlib.pyplot as plt\n",
      "import glob\n",
      "import gpxpy\n",
      "import gpxpy.gpx\n",
      "import os\n",
      "\n",
      "%matplotlib osx"
     ],
     "language": "python",
     "metadata": {},
     "outputs": []
    },
    {
     "cell_type": "markdown",
     "metadata": {},
     "source": [
      "Next, let define a function that clears the all of the ticks and lines."
     ]
    },
    {
     "cell_type": "code",
     "collapsed": false,
     "input": [
      "def clear_frame(ax=None): \n",
      "    # Taken from a post by Tony S Yu\n",
      "    if ax is None: \n",
      "        ax = plt.gca() \n",
      "    ax.xaxis.set_visible(False) \n",
      "    ax.yaxis.set_visible(False) \n",
      "    for spine in ax.spines.values(): \n",
      "        spine.set_visible(False)"
     ],
     "language": "python",
     "metadata": {},
     "outputs": []
    },
    {
     "cell_type": "markdown",
     "metadata": {},
     "source": [
      "Remember our load run data from the previous notebook? Well here it is again, but just a little more streamlined."
     ]
    },
    {
     "cell_type": "code",
     "collapsed": false,
     "input": [
      "def load_run_data(gpx_path, filter=\"\"):\n",
      "\n",
      "    # List all of the GPX files in the path\n",
      "    gpx_files = glob.glob(os.path.join(gpx_path,filter+\"*.gpx\"))\n",
      "    \n",
      "    run_data = []\n",
      "    \n",
      "    # Loop through the files\n",
      "    for file_idx, gpx_file in enumerate(gpx_files): \n",
      "        # Parse the GPX File\n",
      "        try:\n",
      "            gpx = gpxpy.parse(open(gpx_file, 'r'))\n",
      "        except: \n",
      "            # Runkeeper often leaves off some XML tags causing an ivalid file.\n",
      "            # This can be fixed, but for the purpose of this talk, lets just \n",
      "            # remove the file from the data set.\n",
      "            os.remove(gpx_file)\n",
      "            continue\n",
      "           \n",
      "        run_data_tmp = [[file_idx, gpx_file, point.latitude,point.longitude, point.elevation] \n",
      "                            for track in gpx.tracks \n",
      "                                for segment in track.segments \n",
      "                                    for point in segment.points]\n",
      "        run_data += run_data_tmp\n",
      "        \n",
      "    return run_data"
     ],
     "language": "python",
     "metadata": {},
     "outputs": []
    },
    {
     "cell_type": "code",
     "collapsed": false,
     "input": [
      "# Huntsville\n",
      "run_data = load_run_data(\"hsvrundata\")"
     ],
     "language": "python",
     "metadata": {},
     "outputs": []
    },
    {
     "cell_type": "markdown",
     "metadata": {},
     "source": [
      "We'll also need a function to plot the data. For this we will just accept in a 2-D list of points with a run index. We'll group the points by the index and plot the runs as seperate series (so our lines don't connect back)."
     ]
    },
    {
     "cell_type": "code",
     "collapsed": false,
     "input": [
      "def plot_run_data(coords, **kwargs):\n",
      "    coords_df = pd.DataFrame(coords, columns=['Index','File_Name','Latitude','Longitude','Altitude'])  \n",
      "    grouped = coords_df.groupby('Index')\n",
      "    \n",
      "    fig = plt.figure()\n",
      "    fig.hold(True)\n",
      "\n",
      "    # Adjust these values to make the picture look a little different\n",
      "    bgcolor = kwargs.get('bgcolor', '#001933')\n",
      "    color = kwargs.get('color', '#FFFFFF')\n",
      "    linewidth = kwargs.get('linewidth', .35)\n",
      "    alpha = kwargs.get('alpha', .5)\n",
      "                         \n",
      "    grouped.plot('Longitude','Latitude', color=color, linewidth=linewidth, alpha=alpha)\n",
      "\n",
      "    ax = plt.gca()\n",
      "    plt.grid(False)\n",
      "    ax.patch.set_facecolor(bgcolor)\n",
      "    ax.set_aspect('auto','box','C')\n",
      "    clear_frame()\n",
      "    plt.subplots_adjust(left=0, right=1, top=1, bottom=0)"
     ],
     "language": "python",
     "metadata": {},
     "outputs": []
    },
    {
     "cell_type": "code",
     "collapsed": false,
     "input": [
      "%matplotlib inline\n",
      "plot_run_data(run_data)"
     ],
     "language": "python",
     "metadata": {},
     "outputs": []
    },
    {
     "cell_type": "markdown",
     "metadata": {},
     "source": [
      "## Interact a little more\n",
      "\n",
      "Of course the inline motplotlib plotting doesn't allow us to interact very well. Matplotlib has a fiew modes that you can set to plot using a different \"backend\" system. Let's try it out."
     ]
    },
    {
     "cell_type": "code",
     "collapsed": true,
     "input": [
      "# matplotlib backend can be osx, tk, qt, wx, or gtk\n",
      "%matplotlib osx \n",
      "plot_run_data(run_data)"
     ],
     "language": "python",
     "metadata": {},
     "outputs": []
    },
    {
     "cell_type": "markdown",
     "metadata": {},
     "source": [
      "#Just for Fun"
     ]
    },
    {
     "cell_type": "code",
     "collapsed": false,
     "input": [
      "run_df = pd.DataFrame(run_data, columns=['Index','File_Name','Latitude','Longitude','Altitude'])  "
     ],
     "language": "python",
     "metadata": {},
     "outputs": []
    },
    {
     "cell_type": "code",
     "collapsed": false,
     "input": [
      "run_df.head()"
     ],
     "language": "python",
     "metadata": {},
     "outputs": []
    },
    {
     "cell_type": "code",
     "collapsed": false,
     "input": [
      "plot_run_data(run_data, bgcolor=\"#DDDDDD\", color=\"#999999\", alpha=.6)\n",
      "\n",
      "music_moves_me = run_df[run_df['File_Name'].str.contains('Music_Moves_Me_5K_2012.gpx')]\n",
      "music_moves_me.plot('Longitude','Latitude',color='#764B92', linewidth=3, linestyle='-', alpha=.3)\n",
      "music_moves_me.plot('Longitude','Latitude',color='#764B92', linewidth=2, linestyle='-')\n",
      "x,y = music_moves_me['Longitude'].iloc[0], music_moves_me['Latitude'].iloc[0]\n",
      "plt.annotate('Music Moves Me', \n",
      "             xy=(x,y), \n",
      "             xytext=(x-.003,y+.002),\n",
      "             color='#764B92', \n",
      "             size=16,\n",
      "             arrowprops=dict(facecolor='#764B92'))\n",
      "\n",
      "rudolph = run_df[run_df['File_Name'].str.contains('Rudolph_Run_5k.gpx')]\n",
      "rudolph.plot('Longitude','Latitude',color='#BF1E2D', linewidth=3, linestyle='-', alpha=.3)\n",
      "rudolph.plot('Longitude','Latitude',color='#BF1E2D', linewidth=2, linestyle='-')\n",
      "x,y = rudolph['Longitude'].iloc[0], rudolph['Latitude'].iloc[0]\n",
      "plt.annotate('Rudolph Run', \n",
      "             xy=(x,y), \n",
      "             xytext=(x+.003,y+.002),\n",
      "             color='#BF1E2D', \n",
      "             size=16,\n",
      "             arrowprops=dict(facecolor='#BF1E2D'))\n",
      "\n",
      "spooktacular = run_df[run_df['File_Name'].str.contains('Spooktacular_5k.gpx')]\n",
      "spooktacular.plot('Longitude','Latitude',color='#F36C32', linewidth=3, linestyle='-', alpha=.3)\n",
      "spooktacular.plot('Longitude','Latitude',color='#F36C32', linewidth=2, linestyle='-')\n",
      "x,y = spooktacular['Longitude'].iloc[0], spooktacular['Latitude'].iloc[0]\n",
      "plt.annotate('Spooktactular', \n",
      "             xy=(x,y), \n",
      "             xytext=(x-.003,y-.004),\n",
      "             color='#F36C32', \n",
      "             size=16,\n",
      "             arrowprops=dict(facecolor='#F36C32'))\n",
      "\n",
      "cotton_row = run_df[run_df['File_Name'].str.contains('Cotton_Row_5k.gpx')]\n",
      "cotton_row.plot('Longitude','Latitude',color='#127700', linewidth=3, linestyle='-', alpha=.3)\n",
      "cotton_row.plot('Longitude','Latitude',color='#127700', linewidth=2, linestyle='-')\n",
      "x,y = cotton_row['Longitude'].iloc[0], cotton_row['Latitude'].iloc[0]\n",
      "plt.annotate('Cotton Row', \n",
      "             xy=(x,y), \n",
      "             xytext=(x-.002,y-.002),\n",
      "             color='#127700', \n",
      "             size=16,\n",
      "             arrowprops=dict(facecolor='#127700'))\n",
      "\n",
      "liz_hurley = run_df[run_df['File_Name'].str.contains('HTC_Liz_Hurley_Run_5k.gpx')]\n",
      "liz_hurley.plot('Longitude','Latitude',color='#336699', linewidth=3, linestyle='-', alpha=.3)\n",
      "liz_hurley.plot('Longitude','Latitude',color='#336699', linewidth=2, linestyle='-')\n",
      "x,y = liz_hurley['Longitude'].iloc[0], liz_hurley['Latitude'].iloc[0]\n",
      "plt.annotate('Liz Hurley', \n",
      "             xy=(x,y), \n",
      "             xytext=(x-.001,y-.002),\n",
      "             color='#336699', \n",
      "             size=16,\n",
      "             arrowprops=dict(facecolor='#336699'))\n",
      "\n",
      "clear_frame()"
     ],
     "language": "python",
     "metadata": {},
     "outputs": []
    },
    {
     "cell_type": "code",
     "collapsed": false,
     "input": [],
     "language": "python",
     "metadata": {},
     "outputs": []
    }
   ],
   "metadata": {}
  }
 ]
}